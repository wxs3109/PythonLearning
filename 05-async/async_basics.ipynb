{
 "cells": [
  {
   "cell_type": "markdown",
   "metadata": {},
   "source": [
    "# Async Basics\n",
    "- Introduction to asynchronous programming with `async` and `await`.\n",
    "- `asyncio` event loops schedule and run coroutines.\n",
    "- Use `asyncio.gather()` or `asyncio.create_task()` to run tasks concurrently.\n",
    "- Avoid blocking calls (e.g., `time.sleep`). Use awaitable alternatives.\n",
    "- `async for` and `async with` work with asynchronous iterators and context managers.\n"
   ]
  }
 ],
 "metadata": {
  "language_info": {
   "name": "python",
   "version": "3"
  }
 },
 "nbformat": 4,
 "nbformat_minor": 5
}
