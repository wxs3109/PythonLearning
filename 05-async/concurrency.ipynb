{
 "cells": [
  {
   "cell_type": "markdown",
   "metadata": {},
   "source": [
    "# Concurrency with Threads and Processes\n",
    "- Use threads for lightweight parallelism when tasks are I/O bound.\n",
    "- Run separate processes for CPU heavy work using the `multiprocessing` module.\n",
    "- `concurrent.futures` provides a common interface for both approaches.\n",
    "- Coordinate workers and gather results with process or thread pools.\n"
   ]
  }
 ],
 "metadata": {
  "language_info": {
   "name": "python",
   "version": "3"
  }
 },
 "nbformat": 4,
 "nbformat_minor": 5
}
